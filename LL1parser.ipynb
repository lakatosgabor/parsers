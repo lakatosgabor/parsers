{
  "nbformat": 4,
  "nbformat_minor": 0,
  "metadata": {
    "colab": {
      "provenance": [],
      "authorship_tag": "ABX9TyNiMr4Bv1Tw0+RJ+XsqjCmv",
      "include_colab_link": true
    },
    "kernelspec": {
      "name": "python3",
      "display_name": "Python 3"
    },
    "language_info": {
      "name": "python"
    }
  },
  "cells": [
    {
      "cell_type": "markdown",
      "metadata": {
        "id": "view-in-github",
        "colab_type": "text"
      },
      "source": [
        "<a href=\"https://colab.research.google.com/github/lakatosgabor/parsers/blob/main/LL1parser.ipynb\" target=\"_parent\"><img src=\"https://colab.research.google.com/assets/colab-badge.svg\" alt=\"Open In Colab\"/></a>"
      ]
    },
    {
      "cell_type": "markdown",
      "source": [
        "## Aritmetikai kifejezések ellenőrzése\n",
        "\n",
        "Összeadás, kivonás, szorzás, osztás, cos, sin műveletek ellenőrzése."
      ],
      "metadata": {
        "id": "n8cs8aO6GfF9"
      }
    },
    {
      "cell_type": "code",
      "execution_count": 33,
      "metadata": {
        "id": "5Vihw7ZiGI5A"
      },
      "outputs": [],
      "source": [
        "class LL1Parser:\n",
        "    def __init__(self):\n",
        "        self.input_str = \"\"\n",
        "        self.pos = 0\n",
        "        self.current_token = None\n",
        "\n",
        "    def set_input(self, input_str):\n",
        "        self.input_str = input_str + '$'\n",
        "        self.pos = 0\n",
        "        self.current_token = self.get_next_token()\n",
        "\n",
        "    def get_next_token(self):\n",
        "        return self.input_str[self.pos]\n",
        "\n",
        "    def lookahead(self):\n",
        "        next_pos = self.pos + 1\n",
        "        if next_pos < len(self.input_str):\n",
        "            return self.input_str[next_pos]\n",
        "        else:\n",
        "            return None\n",
        "\n",
        "    def match(self, expected_token):\n",
        "        if self.current_token == expected_token:\n",
        "            self.pos += 1\n",
        "            self.current_token = self.get_next_token()\n",
        "        else:\n",
        "            raise ValueError(\"Syntax error\")\n",
        "\n",
        "    def E(self):\n",
        "        self.T()\n",
        "        self.E_prime()\n",
        "\n",
        "    def E_prime(self):\n",
        "        if self.current_token in ['+', '-']:\n",
        "            op = self.current_token\n",
        "            self.match(op)\n",
        "            self.T()\n",
        "            self.E_prime()\n",
        "\n",
        "    def T(self):\n",
        "        self.F()\n",
        "        self.T_prime()\n",
        "\n",
        "    def T_prime(self):\n",
        "        if self.current_token in ['*', '/']:\n",
        "            op = self.current_token\n",
        "            self.match(op)\n",
        "            self.F()\n",
        "            self.T_prime()\n",
        "\n",
        "    def F(self):\n",
        "        if self.current_token.isdigit():\n",
        "            self.N()\n",
        "        elif self.current_token == '(':\n",
        "            self.match('(')\n",
        "            self.E()\n",
        "            self.match(')')\n",
        "        elif self.current_token == 's' and self.lookahead() == 'i':\n",
        "            self.current_token = 'sin'\n",
        "            self.pos += 2\n",
        "            self.match('sin')\n",
        "            self.match('(')\n",
        "            self.E()\n",
        "            self.match(')')\n",
        "        elif self.current_token == 'c' and self.lookahead() == 'o':\n",
        "            self.current_token = 'cos'\n",
        "            self.pos += 2\n",
        "            self.match('cos')\n",
        "            self.match('(')\n",
        "            self.E()\n",
        "            self.match(')')\n",
        "        else:\n",
        "            raise ValueError(\"Syntax error\")\n",
        "\n",
        "    def N(self):\n",
        "        if self.current_token.isdigit():\n",
        "            self.match(self.current_token)\n",
        "            self.N_prime()\n",
        "        else:\n",
        "            raise ValueError(\"Syntax error\")\n",
        "\n",
        "    def N_prime(self):\n",
        "        if self.current_token.isdigit():\n",
        "            self.match(self.current_token)\n",
        "            self.N_prime()\n",
        "        elif self.current_token == '.':\n",
        "            self.match('.')\n",
        "            self.N()\n",
        "\n",
        "    def parse(self, input_str):\n",
        "        self.set_input(input_str)\n",
        "        try:\n",
        "            self.E()\n",
        "            if self.current_token == '$':\n",
        "                print(\"String: \", input_str ,\" is accepted!\")\n",
        "            else:\n",
        "                print(\"String: \", input_str ,\" is unexpected token!\")\n",
        "        except ValueError as e:\n",
        "            print(\"String:\", input_str ,\"is not accepted! Error:\", e)"
      ]
    },
    {
      "cell_type": "markdown",
      "source": [
        "## Tesztelés elfogadott kimenetek"
      ],
      "metadata": {
        "id": "_6jDJK5IGwLx"
      }
    },
    {
      "cell_type": "code",
      "source": [
        "parser = LL1Parser()\n",
        "parser.parse(\"cos(1)\")"
      ],
      "metadata": {
        "colab": {
          "base_uri": "https://localhost:8080/"
        },
        "id": "a3X4ZmADGOPX",
        "outputId": "07d9ece8-3c7c-48d5-a4fc-017bdc2f2662"
      },
      "execution_count": 34,
      "outputs": [
        {
          "output_type": "stream",
          "name": "stdout",
          "text": [
            "String:  cos(1)  is accepted!\n"
          ]
        }
      ]
    },
    {
      "cell_type": "code",
      "source": [
        "parser = LL1Parser()\n",
        "parser.parse(\"2+3*(4-1)\")"
      ],
      "metadata": {
        "colab": {
          "base_uri": "https://localhost:8080/"
        },
        "id": "stOPPuAUGQZ1",
        "outputId": "e6ee526c-12df-4909-bfff-1c7f99796325"
      },
      "execution_count": 35,
      "outputs": [
        {
          "output_type": "stream",
          "name": "stdout",
          "text": [
            "String:  2+3*(4-1)  is accepted!\n"
          ]
        }
      ]
    },
    {
      "cell_type": "code",
      "source": [
        "parser = LL1Parser()\n",
        "parser.parse(\"10/10-5\")"
      ],
      "metadata": {
        "colab": {
          "base_uri": "https://localhost:8080/"
        },
        "id": "je3KAaMAG36u",
        "outputId": "26f20694-3e4f-42d1-cded-ab4d42407872"
      },
      "execution_count": 36,
      "outputs": [
        {
          "output_type": "stream",
          "name": "stdout",
          "text": [
            "String:  10/10-5  is accepted!\n"
          ]
        }
      ]
    },
    {
      "cell_type": "markdown",
      "source": [
        "## Tesztelés elutasított kimenetek"
      ],
      "metadata": {
        "id": "sHow6kTKHBUr"
      }
    },
    {
      "cell_type": "code",
      "source": [
        "parser = LL1Parser()\n",
        "parser.parse(\"cos5\")"
      ],
      "metadata": {
        "colab": {
          "base_uri": "https://localhost:8080/"
        },
        "id": "z5f30OV1HAdT",
        "outputId": "4dc4c4c8-2407-4832-83f3-4c12daea2a5d"
      },
      "execution_count": 37,
      "outputs": [
        {
          "output_type": "stream",
          "name": "stdout",
          "text": [
            "String: cos5 is not accepted! Error: Syntax error\n"
          ]
        }
      ]
    },
    {
      "cell_type": "code",
      "source": [
        "parser = LL1Parser()\n",
        "parser.parse(\"5-\")"
      ],
      "metadata": {
        "colab": {
          "base_uri": "https://localhost:8080/"
        },
        "id": "ufERR52KHA2M",
        "outputId": "d9755821-1d24-45b6-c88a-2b3bbea737de"
      },
      "execution_count": 38,
      "outputs": [
        {
          "output_type": "stream",
          "name": "stdout",
          "text": [
            "String: 5- is not accepted! Error: Syntax error\n"
          ]
        }
      ]
    },
    {
      "cell_type": "code",
      "source": [
        "parser = LL1Parser()\n",
        "parser.parse(\"10%3\")"
      ],
      "metadata": {
        "colab": {
          "base_uri": "https://localhost:8080/"
        },
        "id": "vorHJgv9G9FR",
        "outputId": "e908043b-6180-42b3-c2ad-20e476990a60"
      },
      "execution_count": 39,
      "outputs": [
        {
          "output_type": "stream",
          "name": "stdout",
          "text": [
            "String:  10%3  is unexpected token!\n"
          ]
        }
      ]
    }
  ]
}